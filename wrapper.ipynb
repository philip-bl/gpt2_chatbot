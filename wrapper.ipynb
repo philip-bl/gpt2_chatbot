{
 "cells": [
  {
   "cell_type": "code",
   "execution_count": 32,
   "metadata": {},
   "outputs": [],
   "source": [
    "messages = [\"Hello my name is Ivan, nice to meet you\", \n",
    "            \"Hello, Ivan, nive to meet you too. I'm a YetAnotherChatbot.\", \n",
    "            \"Oh, hi, Mark. What a story you just told me...\"]\n",
    "\n",
    "\n",
    "def wrap_message_list(m_list, insert_intro=True, wrap_type='name', check_end_punct=True):\n",
    "    '''\n",
    "    m_list: (list) list of messages in chatbot log \n",
    "    insert_intro: (boolean) whether should it insert the intro about the conversation\n",
    "    wrap_type: (string) type of conditioning to use (available: []) #add smth here later\n",
    "    check_end_punct: (boolean) whether should it check the last symbol of message to have the period etc\n",
    "    '''\n",
    "    output = \"\"\n",
    "    types = {'name': ('Alice:', 'Bob:'),\n",
    "            'name-in-par': ('[Alice]:', '[Bob]:'),\n",
    "            'dash': ('-', '-'),\n",
    "            'number': ('1:', '2:')}\n",
    "    \n",
    "    assert wrap_type in types, \"Unknown wrapping\"\n",
    "    \n",
    "    if(insert_intro):\n",
    "        output += \"This is the conversation between 2 people.\\n\"\n",
    "    \n",
    "    return output"
   ]
  },
  {
   "cell_type": "code",
   "execution_count": 34,
   "metadata": {},
   "outputs": [
    {
     "name": "stdout",
     "output_type": "stream",
     "text": [
      "This is the conversation between 2 people.\n",
      "\n"
     ]
    }
   ],
   "source": [
    "print(wrap_message_list(messages, wrap_type='name'))"
   ]
  },
  {
   "cell_type": "raw",
   "metadata": {},
   "source": []
  }
 ],
 "metadata": {
  "kernelspec": {
   "display_name": "Python 3",
   "language": "python",
   "name": "python3"
  },
  "language_info": {
   "codemirror_mode": {
    "name": "ipython",
    "version": 3
   },
   "file_extension": ".py",
   "mimetype": "text/x-python",
   "name": "python",
   "nbconvert_exporter": "python",
   "pygments_lexer": "ipython3",
   "version": "3.6.8"
  }
 },
 "nbformat": 4,
 "nbformat_minor": 2
}
